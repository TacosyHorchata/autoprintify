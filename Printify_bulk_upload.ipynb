{
  "nbformat": 4,
  "nbformat_minor": 0,
  "metadata": {
    "colab": {
      "provenance": [],
      "authorship_tag": "ABX9TyM4lZEBBT3B51N8bkaIifWx",
      "include_colab_link": true
    },
    "kernelspec": {
      "name": "python3",
      "display_name": "Python 3"
    },
    "language_info": {
      "name": "python"
    }
  },
  "cells": [
    {
      "cell_type": "markdown",
      "metadata": {
        "id": "view-in-github",
        "colab_type": "text"
      },
      "source": [
        "<a href=\"https://colab.research.google.com/github/TacosyHorchata/autoprintify/blob/main/Printify_bulk_upload.ipynb\" target=\"_parent\"><img src=\"https://colab.research.google.com/assets/colab-badge.svg\" alt=\"Open In Colab\"/></a>"
      ]
    },
    {
      "cell_type": "markdown",
      "source": [
        "github repo: https://github.com/TacosyHorchata/autoprintify\n",
        "\n",
        "## HEY!\n",
        "\n",
        "This program allows you to bulk upload your ready designs into your Printify store.\n",
        "\n",
        "Please keep in mind:\n",
        "\n",
        "- Images must be in the /images folder.\n",
        "- Images must be in .png format if you want to maintain a transparent background.\n",
        "- The filenames of the images should follow the format: title + 'Product'.\n",
        "- T-shirts and mugs will be created for each image in the /images folder.\n",
        "\n",
        "Follow the instructions below (approximately 5 minutes):"
      ],
      "metadata": {
        "id": "hzEnlMvvaHII"
      }
    },
    {
      "cell_type": "markdown",
      "source": [
        "## 1. Create the images folder and import the necessary packages\n",
        "\n",
        "Simply run the cell."
      ],
      "metadata": {
        "id": "FhDWrQE3aScb"
      }
    },
    {
      "cell_type": "code",
      "source": [
        "import requests\n",
        "import base64\n",
        "import os\n",
        "import shutil\n",
        "\n",
        "# Create the images directory if it does not exist\n",
        "if not os.path.exists('images'):\n",
        "    os.mkdir('images')"
      ],
      "metadata": {
        "id": "Sbxh5pyEaRvV"
      },
      "execution_count": null,
      "outputs": []
    },
    {
      "cell_type": "markdown",
      "source": [
        "\n",
        "## 2. Move the desired images into the /images folder."
      ],
      "metadata": {
        "id": "5EmTOVyybSCD"
      }
    },
    {
      "cell_type": "markdown",
      "source": [
        "## 3. API Key - Enter your API key  \n",
        "Navigate to Printify > Account > Connections > API Tokens."
      ],
      "metadata": {
        "id": "jdKG2E7EXOnj"
      }
    },
    {
      "cell_type": "code",
      "source": [
        "# Define the API key (please ensure to replace with your actual key, you can find it in Printify > Account > Connections > API tokens)\n",
        "api_key = 'eyJ0eXAiOiJKV1QiLCJhbGciOiJSUzI1NiJ9.eyJhdWQiOiIzN2Q0YmQzMDM1ZmUxMWU5YTgwM2FiN2VlYjNjY2M5NyIsImp0aSI6ImE3ZmRjZWYzNWE4MGQ3MjIzNGZlZTMyY2JjYWQ4M2NjOTc2MTVhOGMzNzUwMzgyYzFjYTJmZWYwODI4YTM4YTk4MTU4ZTQxMzZkYzc0Nzc5IiwiaWF0IjoxNzI3MjQ1NzQ3Ljc4MzE2MSwibmJmIjoxNzI3MjQ1NzQ3Ljc4MzE2MywiZXhwIjoxNzU4NzgxNzQ3Ljc3MDI3NCwic3ViIjoiMTk3NTY4NjQiLCJzY29wZXMiOlsic2hvcHMubWFuYWdlIiwic2hvcHMucmVhZCIsImNhdGFsb2cucmVhZCIsIm9yZGVycy5yZWFkIiwib3JkZXJzLndyaXRlIiwicHJvZHVjdHMucmVhZCIsInByb2R1Y3RzLndyaXRlIiwid2ViaG9va3MucmVhZCIsIndlYmhvb2tzLndyaXRlIiwidXBsb2Fkcy5yZWFkIiwidXBsb2Fkcy53cml0ZSIsInByaW50X3Byb3ZpZGVycy5yZWFkIiwidXNlci5pbmZvIl19.AVLT8MSkCK6mRH3TENs6qqbohSRuotKyjr1j-8q_gHgl7HKgad0ggk7JnmnyeOmOq8bit3iE3syIWGCqVn0'"
      ],
      "metadata": {
        "id": "D_fUUeXp24zg"
      },
      "execution_count": null,
      "outputs": []
    },
    {
      "cell_type": "markdown",
      "source": [
        "## 4. Get Your Shop ID\n",
        "\n",
        "The Shop ID is unique for each store—Etsy, Shopify, Printify, etc.\n",
        "\n",
        "#### Copy and paste the desired Shop ID in the third step."
      ],
      "metadata": {
        "id": "SwyYTXWNZHFy"
      }
    },
    {
      "cell_type": "code",
      "source": [
        "import requests\n",
        "\n",
        "def get_shop_ids():\n",
        "    \"\"\"Fetch and display the available shop IDs from the Printify API.\"\"\"\n",
        "\n",
        "    response = requests.get('https://api.printify.com/v1/shops.json', headers={\n",
        "        'Authorization': f'Bearer {api_key}',\n",
        "        'Content-Type': 'application/json',\n",
        "    })\n",
        "\n",
        "    shops = []\n",
        "    if response.status_code in [200, 201]:\n",
        "        shops = response.json()\n",
        "    if shops:\n",
        "        shop_ids = {shop['id']: shop['title'] for shop in shops}\n",
        "        for shop_id, title in shop_ids.items():\n",
        "            print(f\"Shop ID: {shop_id}, Name: {title}\")\n",
        "    else:\n",
        "        print(\"No shops found.\")\n",
        "\n",
        "print(get_shop_ids())"
      ],
      "metadata": {
        "id": "4v1kclNjYVqD",
        "colab": {
          "base_uri": "https://localhost:8080/"
        },
        "outputId": "f6c65221-0ddd-470f-f55c-3432a72d36ca"
      },
      "execution_count": null,
      "outputs": [
        {
          "output_type": "stream",
          "name": "stdout",
          "text": [
            "Shop ID: 17989107, Name: Sci-Corner\n",
            "Shop ID: 18000073, Name: My Etsy Store\n",
            "None\n"
          ]
        }
      ]
    },
    {
      "cell_type": "markdown",
      "source": [
        "Here’s a refined version:\n",
        "\n",
        "---\n",
        "\n",
        "## 5. Edit These Variables\n",
        "\n",
        "#### You can find the Blueprint ID in the URL of the product, for example:\n",
        "\n",
        "`https://printify.com/app/products/145/gildan/unisex-softstyle-t-shirt`\n",
        "\n",
        "In this case, \"145\" is the Blueprint ID.\n",
        "\n",
        "#### The same applies for the Provider ID:\n",
        "\n",
        "`https://printify.com/app/print-provider/42/drive-fulfillment`\n",
        "\n",
        "Here, \"42\" is the Provider ID."
      ],
      "metadata": {
        "id": "zJYmvaviWaXQ"
      }
    },
    {
      "cell_type": "code",
      "source": [
        "## Shop ID printed in 2nd step ^^\n",
        "shop_id = '18000073' #Replace with the Shop ID you fetched in the second step e.g. '12000033'\n",
        "\n",
        "## Blueprints of Printify products\n",
        "blueprint_tshirt_id = 145  # Replace with tshirt id\n",
        "blueprint_mug_id = 68  # Replace with mug id\n",
        "blueprint_clutch_bag_id = 544  # Replace with clutch bag id\n",
        "\n",
        "## Print Provider IDs\n",
        "print_provider_tshirt_id = 42  # Replace with tshirt provider id\n",
        "print_provider_mugs_id = 1  # Replace with mug provider id\n",
        "print_provider_clutch_bag_id = 23  # Replace with clutch bag provider id\n",
        "\n",
        "## Color for tshirt (Just 1 supported)\n",
        "color = 'White' #just for tshirt\n",
        "\n",
        "## Retail Price\n",
        "mug_price = 1757 #17.57 USD\n",
        "tshirt_price = 2422 #24.22 USD\n",
        "clutch_bag_price = 2788 #27.88 USD\n",
        "\n",
        "# Specify the directory containing your images\n",
        "image_directory = 'images'  # Replace with the actual path"
      ],
      "metadata": {
        "id": "trskc8a735yt"
      },
      "execution_count": null,
      "outputs": []
    },
    {
      "cell_type": "markdown",
      "source": [
        "#### Product Descriptions - Edit as Needed"
      ],
      "metadata": {
        "id": "KH30hCMBZyDN"
      }
    },
    {
      "cell_type": "code",
      "source": [
        "tshirt_description = '''\n",
        "- 100% ring-spun cotton (Heather, Sport Grey, and Graphite Heather include cotton/polyester blends)\n",
        "- Lightweight fabric (4.5 oz/yd² or 153 g/m²) for year-round comfort\n",
        "- Classic fit with a versatile crew neckline\n",
        "- Tear-away label for added comfort\n",
        "- Ethically sourced US cotton, Oeko-Tex certified for safety and quality\n",
        "- Sustainable production as a proud member of the US Cotton Trust Protocol\n",
        "\n",
        "Elevate your wardrobe with this premium unisex t-shirt, crafted from 100% ring-spun cotton for unmatched softness and comfort. The lightweight fabric (4.5 oz/yd²) makes it perfect for any season, offering breathability and durability you can rely on. With a classic fit and versatile crew neckline, this tee easily transitions from casual to semi-formal settings, making it a go-to for any occasion.\n",
        "\n",
        "Designed for comfort, each shirt features a tear-away label to eliminate any irritation. Made from ethically sourced US cotton and certified by Oeko-Tex for safety, you can feel good about wearing sustainable fashion. Heather colors, Sport Grey, and Graphite Heather include a blend of cotton and polyester for added style and flexibility.\n",
        "\n",
        "'''\n",
        "\n",
        "mug_description = '''\n",
        "- White ceramic\n",
        "- 11oz capacity (0.33 l)\n",
        "- Rounded corners for a sleek design\n",
        "- Comfortable C-handle for easy grip\n",
        "- Lead and BPA-free for safe drinking\n",
        "\n",
        "Start your day right with this classic 11oz white ceramic mug, perfect for your morning coffee, tea, or any beverage of choice. Designed with a sleek, minimalist look, its rounded corners and comfortable C-handle provide a cozy grip. Made from durable, lead and BPA-free materials, this mug ensures safe, long-lasting use. Whether you're at home, in the office, or gifting a loved one, this versatile mug is both practical and stylish, making it a must-have for any kitchen collection.\n",
        "\n",
        "'''\n",
        "\n",
        "clutch_bag_description = '''\n",
        "\n",
        "- Material: 100% PU faux leather\n",
        "- One size: 9.5\" x 6.6\" (24 x 17 cm)\n",
        "- Wrist strap\n",
        "- Saffiano pattern finish\n",
        "- Two compartments - small pocket inside\n",
        "- Black lining\n",
        "- Assembled in the USA from globally sourced parts\n",
        "\n",
        "Crafted from 100% PU faux leather, this sleek clutch bag is designed to complement any outfit. Measuring 9.5\" x 6.6\" (24 x 17 cm), it features a stylish Saffiano pattern finish and a convenient wrist strap for easy carrying. Inside, you'll find two compartments, including a small pocket for organizing essentials. The black lining adds a touch of sophistication, making it perfect for both day and evening wear. Assembled in the USA with globally sourced materials, this versatile clutch is an ideal accessory for any occasion.\n",
        "\n",
        "'''"
      ],
      "metadata": {
        "id": "Bbs1n97_YTG_"
      },
      "execution_count": null,
      "outputs": []
    },
    {
      "cell_type": "markdown",
      "source": [
        "## 5. Run all the following cells"
      ],
      "metadata": {
        "id": "j9kshYtBblMG"
      }
    },
    {
      "cell_type": "code",
      "source": [
        "# Product configurations\n",
        "product_configs = [\n",
        "    {\n",
        "        \"title\": \"T-shirt\",\n",
        "        \"description\": tshirt_description,\n",
        "        \"blueprint_id\": blueprint_tshirt_id,\n",
        "        \"print_provider_id\": print_provider_tshirt_id,\n",
        "        \"color\": \"White\",\n",
        "        \"price\": tshirt_price,\n",
        "        \"position_scale\": 0.6,\n",
        "        \"position_x\": 0.5,\n",
        "        \"position_y\": 0.25\n",
        "    },\n",
        "    {\n",
        "        \"title\": \"Mug\",\n",
        "        \"description\": mug_description,\n",
        "        \"blueprint_id\": blueprint_mug_id,\n",
        "        \"print_provider_id\": print_provider_mugs_id,\n",
        "        \"color\": \"White\",\n",
        "        \"price\": mug_price,\n",
        "        \"position_scale\": 0.3,\n",
        "        \"position_x\": 0.5,\n",
        "        \"position_y\": 0.5\n",
        "    },\n",
        "    {\n",
        "        \"title\": \"Clutch Bag\",\n",
        "        \"description\": clutch_bag_description,\n",
        "        \"blueprint_id\": blueprint_clutch_bag_id,\n",
        "        \"print_provider_id\": print_provider_clutch_bag_id,\n",
        "        \"color\": \"White\",\n",
        "        \"price\": clutch_bag_price,\n",
        "        \"position_scale\": 0.3,\n",
        "        \"position_x\": 0.5,\n",
        "        \"position_y\": 0.5\n",
        "    }\n",
        "]"
      ],
      "metadata": {
        "id": "DEBPrAjf3Shn"
      },
      "execution_count": null,
      "outputs": []
    },
    {
      "cell_type": "code",
      "source": [
        "def request_printify_api(endpoint, method='GET', payload=None):\n",
        "    \"\"\"Reusable function to interact with the Printify API.\"\"\"\n",
        "    headers = {\n",
        "        'Authorization': f'Bearer {api_key}',\n",
        "        'Content-Type': 'application/json',\n",
        "    }\n",
        "\n",
        "    url = f'https://api.printify.com/v1/{endpoint}'\n",
        "    if method == 'GET':\n",
        "        response = requests.get(url, headers=headers)\n",
        "    else:\n",
        "        response = requests.post(url, json=payload, headers=headers)\n",
        "\n",
        "    if response.status_code in [200, 201]:\n",
        "        return response.json()\n",
        "    else:\n",
        "        print(f'Error: {response.json()}')\n",
        "        return None"
      ],
      "metadata": {
        "id": "gB3nj73I2-RM"
      },
      "execution_count": null,
      "outputs": []
    },
    {
      "cell_type": "code",
      "source": [
        "def upload_image_by_base64(file_name, file_path):\n",
        "    \"\"\"Upload an image to Printify in base64 format and return the image ID.\"\"\"\n",
        "    try:\n",
        "        with open(file_path, 'rb') as image_file:\n",
        "            encoded_string = base64.b64encode(image_file.read()).decode('utf-8')\n",
        "\n",
        "        payload = {\n",
        "            \"file_name\": file_name,\n",
        "            \"contents\": encoded_string\n",
        "        }\n",
        "\n",
        "        response = request_printify_api('uploads/images.json', method='POST', payload=payload)\n",
        "        if response:\n",
        "            print(f'Successfully uploaded image: {file_name}')\n",
        "            return response['id']\n",
        "    except Exception as e:\n",
        "        print(f'Error uploading image: {e}')\n",
        "    return None"
      ],
      "metadata": {
        "id": "1DDcwnxe3EWX"
      },
      "execution_count": null,
      "outputs": []
    },
    {
      "cell_type": "code",
      "source": [
        "def fetch_variants(blueprint_id, print_provider_id):\n",
        "    \"\"\"Retrieve available variants for a given blueprint and print provider.\"\"\"\n",
        "    endpoint = f'catalog/blueprints/{blueprint_id}/print_providers/{print_provider_id}/variants.json'\n",
        "    return request_printify_api(endpoint)"
      ],
      "metadata": {
        "id": "Gb3cI9ZZ3GOB"
      },
      "execution_count": null,
      "outputs": []
    },
    {
      "cell_type": "code",
      "source": [
        "def create_product(title, description, blueprint_id, image_id, variants, print_provider_id, price, shop_id, position_scale, position_x, position_y):\n",
        "    \"\"\"Create a product (generalized for both t-shirts and mugs).\"\"\"\n",
        "    for variant in variants:\n",
        "        variant['price'] = price\n",
        "\n",
        "    product_data = {\n",
        "        \"title\": title,\n",
        "        \"description\": description,\n",
        "        \"blueprint_id\": blueprint_id,\n",
        "        \"print_provider_id\": print_provider_id,\n",
        "        \"variants\": variants,\n",
        "        \"print_areas\": [\n",
        "            {\n",
        "                \"variant_ids\": [v['id'] for v in variants],\n",
        "                \"placeholders\": [\n",
        "                    {\n",
        "                        \"position\": \"front\",\n",
        "                        \"images\": [\n",
        "                            {\n",
        "                                \"id\": image_id,\n",
        "                                \"x\": position_x,\n",
        "                                \"y\": position_y,\n",
        "                                \"scale\": position_scale,\n",
        "                                \"angle\": 0\n",
        "                            },\n",
        "                        ],\n",
        "                    },\n",
        "                ],\n",
        "            },\n",
        "        ],\n",
        "    }\n",
        "\n",
        "    response = request_printify_api(f'shops/{shop_id}/products.json', method='POST', payload=product_data)\n",
        "    if response:\n",
        "        print(f'Created product: {response}')\n",
        "    else:\n",
        "        print(f'Error creating product.')"
      ],
      "metadata": {
        "id": "LebGnZc-3KhX"
      },
      "execution_count": null,
      "outputs": []
    },
    {
      "cell_type": "code",
      "source": [
        "def create_products_for_images(image_directory, product_configs, shop_id):\n",
        "    \"\"\"Create products for each image in the directory based on product configurations.\"\"\"\n",
        "    for image_file in os.listdir(image_directory):\n",
        "        if image_file.endswith(('.png', '.jpg', '.jpeg', '.gif')):\n",
        "            file_path = os.path.join(image_directory, image_file)\n",
        "            image_id = upload_image_by_base64(image_file, file_path)\n",
        "\n",
        "            if image_id:\n",
        "                for config in product_configs:\n",
        "                    #print(config, 'CONFIG')\n",
        "                    product = fetch_variants(config['blueprint_id'], config['print_provider_id'])\n",
        "                    if config['title'] == 'T-shirt':\n",
        "                        filtered_variants = [v for v in product['variants'] if v.get('options', {}).get('color') == config['color']]\n",
        "                    else:\n",
        "                        filtered_variants = [v for v in product['variants']]\n",
        "                    #filtered_variants = [v for v in product['variants'] if v.get('options', {}).get('color') == config['color']]\n",
        "                    print(filtered_variants)\n",
        "                    if filtered_variants:\n",
        "                        title = f'{image_file.split(\".\")[0]} {config[\"title\"]}'.title()\n",
        "                        create_product(\n",
        "                            title=title,\n",
        "                            description=config['description'],\n",
        "                            blueprint_id=config['blueprint_id'],\n",
        "                            image_id=image_id,\n",
        "                            variants=filtered_variants,\n",
        "                            print_provider_id=config['print_provider_id'],\n",
        "                            price=config['price'],\n",
        "                            shop_id=shop_id,\n",
        "                            position_scale=config['position_scale'],\n",
        "                            position_x=config['position_x'],\n",
        "                            position_y=config['position_y']\n",
        "                        )"
      ],
      "metadata": {
        "id": "mSpaTzG7201m"
      },
      "execution_count": null,
      "outputs": []
    },
    {
      "cell_type": "code",
      "source": [
        "# Call the function to create products\n",
        "create_products_for_images('images', product_configs, shop_id)"
      ],
      "metadata": {
        "id": "kWn0Rn_63Wq4",
        "colab": {
          "base_uri": "https://localhost:8080/"
        },
        "outputId": "de15ff4a-dbe0-4f16-f6c1-f8073653b882"
      },
      "execution_count": null,
      "outputs": [
        {
          "output_type": "stream",
          "name": "stdout",
          "text": [
            "Successfully uploaded image: a-minimalist-logo-with-the-wordmark-airtisans-stud-cYEDI1AHT5yFBRyZcBtJGw-gHhFzor0RwaVyLMuE-tyWA.jpeg\n",
            "{'title': 'T-shirt', 'description': '\\n- 100% ring-spun cotton (Heather, Sport Grey, and Graphite Heather include cotton/polyester blends)\\n- Lightweight fabric (4.5 oz/yd² or 153 g/m²) for year-round comfort\\n- Classic fit with a versatile crew neckline\\n- Tear-away label for added comfort\\n- Ethically sourced US cotton, Oeko-Tex certified for safety and quality\\n- Sustainable production as a proud member of the US Cotton Trust Protocol\\n\\nElevate your wardrobe with this premium unisex t-shirt, crafted from 100% ring-spun cotton for unmatched softness and comfort. The lightweight fabric (4.5 oz/yd²) makes it perfect for any season, offering breathability and durability you can rely on. With a classic fit and versatile crew neckline, this tee easily transitions from casual to semi-formal settings, making it a go-to for any occasion.\\n\\nDesigned for comfort, each shirt features a tear-away label to eliminate any irritation. Made from ethically sourced US cotton and certified by Oeko-Tex for safety, you can feel good about wearing sustainable fashion. Heather colors, Sport Grey, and Graphite Heather include a blend of cotton and polyester for added style and flexibility.\\n\\n', 'blueprint_id': 145, 'print_provider_id': 42, 'color': 'White', 'price': 2422, 'position_scale': 0.6, 'position_x': 0.5, 'position_y': 0.25} CONFIG\n",
            "[{'id': 38163, 'title': 'White / S', 'options': {'color': 'White', 'size': 'S'}, 'placeholders': [{'position': 'back', 'height': 4203, 'width': 3709}, {'position': 'front', 'height': 4203, 'width': 3709}]}, {'id': 38177, 'title': 'White / M', 'options': {'color': 'White', 'size': 'M'}, 'placeholders': [{'position': 'back', 'height': 4658, 'width': 4110}, {'position': 'front', 'height': 4658, 'width': 4110}]}, {'id': 38191, 'title': 'White / L', 'options': {'color': 'White', 'size': 'L'}, 'placeholders': [{'position': 'back', 'height': 5091, 'width': 4500}, {'position': 'front', 'height': 5091, 'width': 4500}]}, {'id': 38205, 'title': 'White / XL', 'options': {'color': 'White', 'size': 'XL'}, 'placeholders': [{'position': 'back', 'height': 5091, 'width': 4500}, {'position': 'front', 'height': 5091, 'width': 4500}]}, {'id': 38219, 'title': 'White / 2XL', 'options': {'color': 'White', 'size': '2XL'}, 'placeholders': [{'position': 'back', 'height': 5091, 'width': 4500}, {'position': 'front', 'height': 5091, 'width': 4500}]}, {'id': 42120, 'title': 'White / 3XL', 'options': {'color': 'White', 'size': '3XL'}, 'placeholders': [{'position': 'back', 'height': 5091, 'width': 4500}, {'position': 'front', 'height': 5091, 'width': 4500}]}]\n",
            "Created product: {'id': '66f3af41cc2d2ff49709b863', 'title': 'A-Minimalist-Logo-With-The-Wordmark-Airtisans-Stud-Cyedi1Aht5Yfbryzcbtjgw-Ghhfzor0Rwavylmue-Tywa T-Shirt', 'description': '\\n- 100% ring-spun cotton (Heather, Sport Grey, and Graphite Heather include cotton/polyester blends)\\n- Lightweight fabric (4.5 oz/yd² or 153 g/m²) for year-round comfort\\n- Classic fit with a versatile crew neckline\\n- Tear-away label for added comfort\\n- Ethically sourced US cotton, Oeko-Tex certified for safety and quality\\n- Sustainable production as a proud member of the US Cotton Trust Protocol\\n\\nElevate your wardrobe with this premium unisex t-shirt, crafted from 100% ring-spun cotton for unmatched softness and comfort. The lightweight fabric (4.5 oz/yd²) makes it perfect for any season, offering breathability and durability you can rely on. With a classic fit and versatile crew neckline, this tee easily transitions from casual to semi-formal settings, making it a go-to for any occasion.\\n\\nDesigned for comfort, each shirt features a tear-away label to eliminate any irritation. Made from ethically sourced US cotton and certified by Oeko-Tex for safety, you can feel good about wearing sustainable fashion. Heather colors, Sport Grey, and Graphite Heather include a blend of cotton and polyester for added style and flexibility.\\n\\n', 'tags': [\"Men's Clothing\", 'T-shirts', 'DTG', 'Regular fit', 'Crew neck', 'Cotton', \"Women's Clothing\", 'Neck Labels', 'Summer Picks', 'TikTok'], 'options': [{'name': 'Colors', 'type': 'color', 'values': [{'id': 521, 'title': 'White', 'colors': ['#ffffff']}, {'id': 418, 'title': 'Black', 'colors': ['#000000']}], 'display_in_preview': True}, {'name': 'Sizes', 'type': 'size', 'values': [{'id': 14, 'title': 'S'}, {'id': 15, 'title': 'M'}, {'id': 16, 'title': 'L'}, {'id': 17, 'title': 'XL'}, {'id': 18, 'title': '2XL'}, {'id': 19, 'title': '3XL'}], 'display_in_preview': False}], 'variants': [{'id': 38163, 'sku': '74978460351533353979', 'cost': 1066, 'price': 2422, 'title': 'White / S', 'grams': 111, 'is_enabled': True, 'is_default': False, 'is_available': True, 'is_printify_express_eligible': False, 'options': [521, 14], 'quantity': 1}, {'id': 38164, 'sku': '64000-GILDAN-BLACK-SM', 'cost': 1066, 'price': 1066, 'title': 'Black / S', 'grams': 111, 'is_enabled': False, 'is_default': False, 'is_available': True, 'is_printify_express_eligible': False, 'options': [418, 14], 'quantity': 1}, {'id': 38177, 'sku': '17081049148359799948', 'cost': 1066, 'price': 2422, 'title': 'White / M', 'grams': 120, 'is_enabled': True, 'is_default': False, 'is_available': True, 'is_printify_express_eligible': False, 'options': [521, 15], 'quantity': 1}, {'id': 38178, 'sku': '64000-GILDAN-BLACK-MD', 'cost': 1066, 'price': 1066, 'title': 'Black / M', 'grams': 120, 'is_enabled': False, 'is_default': False, 'is_available': True, 'is_printify_express_eligible': False, 'options': [418, 15], 'quantity': 1}, {'id': 38191, 'sku': '77413375760712983433', 'cost': 1066, 'price': 2422, 'title': 'White / L', 'grams': 140, 'is_enabled': True, 'is_default': True, 'is_available': True, 'is_printify_express_eligible': False, 'options': [521, 16], 'quantity': 1}, {'id': 38192, 'sku': '64000-GILDAN-BLACK-LG', 'cost': 1066, 'price': 1066, 'title': 'Black / L', 'grams': 140, 'is_enabled': False, 'is_default': False, 'is_available': False, 'is_printify_express_eligible': False, 'options': [418, 16], 'quantity': 1}, {'id': 38205, 'sku': '30780499453110559316', 'cost': 1066, 'price': 2422, 'title': 'White / XL', 'grams': 160, 'is_enabled': True, 'is_default': False, 'is_available': True, 'is_printify_express_eligible': False, 'options': [521, 17], 'quantity': 1}, {'id': 38206, 'sku': '64000-GILDAN-BLACK-XL', 'cost': 1066, 'price': 1066, 'title': 'Black / XL', 'grams': 160, 'is_enabled': False, 'is_default': False, 'is_available': True, 'is_printify_express_eligible': False, 'options': [418, 17], 'quantity': 1}, {'id': 38219, 'sku': '93799247843568517661', 'cost': 1304, 'price': 2422, 'title': 'White / 2XL', 'grams': 180, 'is_enabled': True, 'is_default': False, 'is_available': True, 'is_printify_express_eligible': False, 'options': [521, 18], 'quantity': 1}, {'id': 38220, 'sku': '64000-GILDAN-BLACK-2XL', 'cost': 1304, 'price': 1304, 'title': 'Black / 2XL', 'grams': 180, 'is_enabled': False, 'is_default': False, 'is_available': True, 'is_printify_express_eligible': False, 'options': [418, 18], 'quantity': 1}, {'id': 42120, 'sku': '19224132134068621652', 'cost': 1463, 'price': 2422, 'title': 'White / 3XL', 'grams': 200, 'is_enabled': True, 'is_default': False, 'is_available': True, 'is_printify_express_eligible': False, 'options': [521, 19], 'quantity': 1}, {'id': 42122, 'sku': '64000-GILDAN-BLACK-3XL', 'cost': 1463, 'price': 1463, 'title': 'Black / 3XL', 'grams': 200, 'is_enabled': False, 'is_default': False, 'is_available': True, 'is_printify_express_eligible': False, 'options': [418, 19], 'quantity': 1}], 'images': [{'src': 'https://images.printify.com/mockup/66f3af41cc2d2ff49709b863/38191/97992/a-minimalist-logo-with-the-wordmark-airtisans-stud-cyedi1aht5yfbryzcbtjgw-ghhfzor0rwavylmue-tywa-t-shirt.jpg?camera_label=front', 'variant_ids': [38191, 38163, 38177, 38205, 38219, 42120], 'position': 'front', 'is_default': True, 'is_selected_for_publishing': True, 'order': 1}, {'src': 'https://images.printify.com/mockup/66f3af41cc2d2ff49709b863/38191/97993/a-minimalist-logo-with-the-wordmark-airtisans-stud-cyedi1aht5yfbryzcbtjgw-ghhfzor0rwavylmue-tywa-t-shirt.jpg?camera_label=back', 'variant_ids': [38191, 38163, 38177, 38205, 38219, 42120], 'position': 'back', 'is_default': False, 'is_selected_for_publishing': True, 'order': 2}, {'src': 'https://images.printify.com/mockup/66f3af41cc2d2ff49709b863/38191/97994/a-minimalist-logo-with-the-wordmark-airtisans-stud-cyedi1aht5yfbryzcbtjgw-ghhfzor0rwavylmue-tywa-t-shirt.jpg?camera_label=front-collar-closeup', 'variant_ids': [38191, 38163, 38177, 38205, 38219, 42120], 'position': 'other', 'is_default': False, 'is_selected_for_publishing': True, 'order': 3}, {'src': 'https://images.printify.com/mockup/66f3af41cc2d2ff49709b863/38191/100615/a-minimalist-logo-with-the-wordmark-airtisans-stud-cyedi1aht5yfbryzcbtjgw-ghhfzor0rwavylmue-tywa-t-shirt.jpg?camera_label=folded', 'variant_ids': [38191, 38163, 38177, 38205, 38219, 42120], 'position': 'other', 'is_default': False, 'is_selected_for_publishing': True, 'order': 4}, {'src': 'https://images.printify.com/mockup/66f3af41cc2d2ff49709b863/38191/100616/a-minimalist-logo-with-the-wordmark-airtisans-stud-cyedi1aht5yfbryzcbtjgw-ghhfzor0rwavylmue-tywa-t-shirt.jpg?camera_label=person-1-front', 'variant_ids': [38191, 38163, 38177, 38205, 38219, 42120], 'position': 'other', 'is_default': False, 'is_selected_for_publishing': False, 'order': None}, {'src': 'https://images.printify.com/mockup/66f3af41cc2d2ff49709b863/38191/100617/a-minimalist-logo-with-the-wordmark-airtisans-stud-cyedi1aht5yfbryzcbtjgw-ghhfzor0rwavylmue-tywa-t-shirt.jpg?camera_label=person-1-back', 'variant_ids': [38191, 38163, 38177, 38205, 38219, 42120], 'position': 'other', 'is_default': False, 'is_selected_for_publishing': False, 'order': None}, {'src': 'https://images.printify.com/mockup/66f3af41cc2d2ff49709b863/38191/100619/a-minimalist-logo-with-the-wordmark-airtisans-stud-cyedi1aht5yfbryzcbtjgw-ghhfzor0rwavylmue-tywa-t-shirt.jpg?camera_label=person-2-front', 'variant_ids': [38191, 38163, 38177, 38205, 38219, 42120], 'position': 'other', 'is_default': False, 'is_selected_for_publishing': False, 'order': None}, {'src': 'https://images.printify.com/mockup/66f3af41cc2d2ff49709b863/38191/100620/a-minimalist-logo-with-the-wordmark-airtisans-stud-cyedi1aht5yfbryzcbtjgw-ghhfzor0rwavylmue-tywa-t-shirt.jpg?camera_label=person-2-back', 'variant_ids': [38191, 38163, 38177, 38205, 38219, 42120], 'position': 'other', 'is_default': False, 'is_selected_for_publishing': False, 'order': None}, {'src': 'https://images.printify.com/mockup/66f3af41cc2d2ff49709b863/38191/100618/a-minimalist-logo-with-the-wordmark-airtisans-stud-cyedi1aht5yfbryzcbtjgw-ghhfzor0rwavylmue-tywa-t-shirt.jpg?camera_label=person-3-left-sleeve', 'variant_ids': [38191, 38163, 38177, 38205, 38219, 42120], 'position': 'other', 'is_default': False, 'is_selected_for_publishing': False, 'order': None}, {'src': 'https://images.printify.com/mockup/66f3af41cc2d2ff49709b863/38191/100621/a-minimalist-logo-with-the-wordmark-airtisans-stud-cyedi1aht5yfbryzcbtjgw-ghhfzor0rwavylmue-tywa-t-shirt.jpg?camera_label=person-3-context', 'variant_ids': [38191, 38163, 38177, 38205, 38219, 42120], 'position': 'other', 'is_default': False, 'is_selected_for_publishing': False, 'order': None}, {'src': 'https://images.printify.com/mockup/66f3af41cc2d2ff49709b863/38191/100622/a-minimalist-logo-with-the-wordmark-airtisans-stud-cyedi1aht5yfbryzcbtjgw-ghhfzor0rwavylmue-tywa-t-shirt.jpg?camera_label=person-4-right-sleeve', 'variant_ids': [38191, 38163, 38177, 38205, 38219, 42120], 'position': 'other', 'is_default': False, 'is_selected_for_publishing': False, 'order': None}, {'src': 'https://images.printify.com/mockup/66f3af41cc2d2ff49709b863/38191/100623/a-minimalist-logo-with-the-wordmark-airtisans-stud-cyedi1aht5yfbryzcbtjgw-ghhfzor0rwavylmue-tywa-t-shirt.jpg?camera_label=person-4-context', 'variant_ids': [38191, 38163, 38177, 38205, 38219, 42120], 'position': 'other', 'is_default': False, 'is_selected_for_publishing': False, 'order': None}], 'created_at': '2024-09-25 06:35:45+00:00', 'updated_at': '2024-09-25 06:35:46+00:00', 'visible': True, 'is_locked': False, 'blueprint_id': 145, 'user_id': 19756864, 'shop_id': 18000073, 'print_provider_id': 42, 'print_areas': [{'variant_ids': [38163, 38164, 38177, 38178, 38191, 38192, 38205, 38206, 38219, 38220, 42120, 42122], 'placeholders': [{'position': 'back', 'images': []}, {'position': 'front', 'images': [{'id': '66f3ae9d3fd62b125360390e', 'name': 'a-minimalist-logo-with-the-wordmark-airtisans-stud-cYEDI1AHT5yFBRyZcBtJGw-gHhFzor0RwaVyLMuE-tyWA.jpeg', 'type': 'image/jpeg', 'height': 1024, 'width': 1024, 'x': 0.5, 'y': 0.25, 'scale': 0.6, 'angle': 0}]}], 'font_color': '#000', 'font_family': 'Roboto'}], 'print_details': [], 'sales_channel_properties': [], 'is_printify_express_eligible': False, 'is_printify_express_enabled': False, 'is_economy_shipping_eligible': False, 'is_economy_shipping_enabled': False}\n",
            "{'title': 'Mug', 'description': \"\\n- White ceramic\\n- 11oz capacity (0.33 l)\\n- Rounded corners for a sleek design\\n- Comfortable C-handle for easy grip\\n- Lead and BPA-free for safe drinking\\n\\nStart your day right with this classic 11oz white ceramic mug, perfect for your morning coffee, tea, or any beverage of choice. Designed with a sleek, minimalist look, its rounded corners and comfortable C-handle provide a cozy grip. Made from durable, lead and BPA-free materials, this mug ensures safe, long-lasting use. Whether you're at home, in the office, or gifting a loved one, this versatile mug is both practical and stylish, making it a must-have for any kitchen collection.\\n\\n\", 'blueprint_id': 68, 'print_provider_id': 1, 'color': 'White', 'price': 1757, 'position_scale': 0.3, 'position_x': 0.5, 'position_y': 0.5} CONFIG\n",
            "[{'id': 33719, 'title': '11oz', 'options': {'size': '11oz'}, 'placeholders': [{'position': 'front', 'height': 1120, 'width': 2700}]}]\n",
            "Created product: {'id': '66f3af43b5a94390310b6979', 'title': 'A-Minimalist-Logo-With-The-Wordmark-Airtisans-Stud-Cyedi1Aht5Yfbryzcbtjgw-Ghhfzor0Rwavylmue-Tywa Mug', 'description': \"\\n- White ceramic\\n- 11oz capacity (0.33 l)\\n- Rounded corners for a sleek design\\n- Comfortable C-handle for easy grip\\n- Lead and BPA-free for safe drinking\\n\\nStart your day right with this classic 11oz white ceramic mug, perfect for your morning coffee, tea, or any beverage of choice. Designed with a sleek, minimalist look, its rounded corners and comfortable C-handle provide a cozy grip. Made from durable, lead and BPA-free materials, this mug ensures safe, long-lasting use. Whether you're at home, in the office, or gifting a loved one, this versatile mug is both practical and stylish, making it a must-have for any kitchen collection.\\n\\n\", 'tags': ['Home & Living', 'Mugs', 'Sublimation', 'Fall Bestsellers', 'White base', '11 oz', '11oz', 'Kitchen', 'Mother’s Day promotion', 'TikTok', 'Bestsellers'], 'options': [{'name': 'Sizes', 'type': 'size', 'values': [{'id': 1189, 'title': '11oz'}], 'display_in_preview': False}], 'variants': [{'id': 33719, 'sku': '31901489872977248926', 'cost': 539, 'price': 1757, 'title': '11oz', 'grams': 460, 'is_enabled': True, 'is_default': True, 'is_available': True, 'is_printify_express_eligible': False, 'options': [1189], 'quantity': 1}], 'images': [{'src': 'https://images.printify.com/mockup/66f3af43b5a94390310b6979/33719/6400/a-minimalist-logo-with-the-wordmark-airtisans-stud-cyedi1aht5yfbryzcbtjgw-ghhfzor0rwavylmue-tywa-mug.jpg?camera_label=front', 'variant_ids': [33719], 'position': 'front', 'is_default': True, 'is_selected_for_publishing': True, 'order': 1}, {'src': 'https://images.printify.com/mockup/66f3af43b5a94390310b6979/33719/6402/a-minimalist-logo-with-the-wordmark-airtisans-stud-cyedi1aht5yfbryzcbtjgw-ghhfzor0rwavylmue-tywa-mug.jpg?camera_label=left', 'variant_ids': [33719], 'position': 'front', 'is_default': False, 'is_selected_for_publishing': True, 'order': 2}, {'src': 'https://images.printify.com/mockup/66f3af43b5a94390310b6979/33719/10395/a-minimalist-logo-with-the-wordmark-airtisans-stud-cyedi1aht5yfbryzcbtjgw-ghhfzor0rwavylmue-tywa-mug.jpg?camera_label=right', 'variant_ids': [33719], 'position': 'front', 'is_default': False, 'is_selected_for_publishing': True, 'order': 3}, {'src': 'https://images.printify.com/mockup/66f3af43b5a94390310b6979/33719/10393/a-minimalist-logo-with-the-wordmark-airtisans-stud-cyedi1aht5yfbryzcbtjgw-ghhfzor0rwavylmue-tywa-mug.jpg?camera_label=context-1', 'variant_ids': [33719], 'position': 'front', 'is_default': False, 'is_selected_for_publishing': True, 'order': 4}, {'src': 'https://images.printify.com/mockup/66f3af43b5a94390310b6979/33719/10394/a-minimalist-logo-with-the-wordmark-airtisans-stud-cyedi1aht5yfbryzcbtjgw-ghhfzor0rwavylmue-tywa-mug.jpg?camera_label=context-2', 'variant_ids': [33719], 'position': 'front', 'is_default': False, 'is_selected_for_publishing': False, 'order': None}, {'src': 'https://images.printify.com/mockup/66f3af43b5a94390310b6979/33719/6568/a-minimalist-logo-with-the-wordmark-airtisans-stud-cyedi1aht5yfbryzcbtjgw-ghhfzor0rwavylmue-tywa-mug.jpg?camera_label=context-3', 'variant_ids': [33719], 'position': 'front', 'is_default': False, 'is_selected_for_publishing': False, 'order': None}], 'created_at': '2024-09-25 06:35:47+00:00', 'updated_at': '2024-09-25 06:35:48+00:00', 'visible': True, 'is_locked': False, 'blueprint_id': 68, 'user_id': 19756864, 'shop_id': 18000073, 'print_provider_id': 1, 'print_areas': [{'variant_ids': [33719], 'placeholders': [{'position': 'front', 'images': [{'id': '66f3ae9d3fd62b125360390e', 'name': 'a-minimalist-logo-with-the-wordmark-airtisans-stud-cYEDI1AHT5yFBRyZcBtJGw-gHhFzor0RwaVyLMuE-tyWA.jpeg', 'type': 'image/jpeg', 'height': 1024, 'width': 1024, 'x': 0.5, 'y': 0.5, 'scale': 0.3, 'angle': 0}]}], 'background': '#ffffff'}], 'print_details': [], 'sales_channel_properties': [], 'is_printify_express_eligible': False, 'is_printify_express_enabled': False, 'is_economy_shipping_eligible': True, 'is_economy_shipping_enabled': False}\n",
            "{'title': 'Clutch Bag', 'description': '\\n\\n- Material: 100% PU faux leather\\n- One size: 9.5\" x 6.6\" (24 x 17 cm)\\n- Wrist strap\\n- Saffiano pattern finish\\n- Two compartments - small pocket inside\\n- Black lining\\n- Assembled in the USA from globally sourced parts\\n\\nCrafted from 100% PU faux leather, this sleek clutch bag is designed to complement any outfit. Measuring 9.5\" x 6.6\" (24 x 17 cm), it features a stylish Saffiano pattern finish and a convenient wrist strap for easy carrying. Inside, you\\'ll find two compartments, including a small pocket for organizing essentials. The black lining adds a touch of sophistication, making it perfect for both day and evening wear. Assembled in the USA with globally sourced materials, this versatile clutch is an ideal accessory for any occasion.\\n\\n', 'blueprint_id': 544, 'print_provider_id': 23, 'color': 'White', 'price': 2788, 'position_scale': 0.3, 'position_x': 0.5, 'position_y': 0.5} CONFIG\n",
            "[{'id': 70400, 'title': 'One size', 'options': {'size': 'One size'}, 'placeholders': [{'position': 'front', 'height': 1890, 'width': 2917}, {'position': 'back', 'height': 1890, 'width': 2917}]}]\n",
            "Created product: {'id': '66f3af4609971b98a1089e79', 'title': 'A-Minimalist-Logo-With-The-Wordmark-Airtisans-Stud-Cyedi1Aht5Yfbryzcbtjgw-Ghhfzor0Rwavylmue-Tywa Clutch Bag', 'description': '\\n\\n- Material: 100% PU faux leather\\n- One size: 9.5\" x 6.6\" (24 x 17 cm)\\n- Wrist strap\\n- Saffiano pattern finish\\n- Two compartments - small pocket inside\\n- Black lining\\n- Assembled in the USA from globally sourced parts\\n\\nCrafted from 100% PU faux leather, this sleek clutch bag is designed to complement any outfit. Measuring 9.5\" x 6.6\" (24 x 17 cm), it features a stylish Saffiano pattern finish and a convenient wrist strap for easy carrying. Inside, you\\'ll find two compartments, including a small pocket for organizing essentials. The black lining adds a touch of sophistication, making it perfect for both day and evening wear. Assembled in the USA with globally sourced materials, this versatile clutch is an ideal accessory for any occasion.\\n\\n', 'tags': ['Bags', 'Accessories', 'All Over Print', 'AOP', 'Vegan', 'Assembled in the USA', 'Made in USA', 'Made in the USA', 'Assembled in USA'], 'options': [{'name': 'Size', 'type': 'size', 'values': [{'id': 2035, 'title': 'One size'}], 'display_in_preview': False}], 'variants': [{'id': 70400, 'sku': '18495663730191994587', 'cost': 1748, 'price': 2788, 'title': 'One size', 'grams': 145, 'is_enabled': True, 'is_default': True, 'is_available': True, 'is_printify_express_eligible': False, 'options': [2035], 'quantity': 1}], 'images': [{'src': 'https://images.printify.com/mockup/66f3af4609971b98a1089e79/70400/10534/a-minimalist-logo-with-the-wordmark-airtisans-stud-cyedi1aht5yfbryzcbtjgw-ghhfzor0rwavylmue-tywa-clutch-bag.jpg?camera_label=front', 'variant_ids': [70400], 'position': 'front', 'is_default': True, 'is_selected_for_publishing': True, 'order': 1}, {'src': 'https://images.printify.com/mockup/66f3af4609971b98a1089e79/70400/10535/a-minimalist-logo-with-the-wordmark-airtisans-stud-cyedi1aht5yfbryzcbtjgw-ghhfzor0rwavylmue-tywa-clutch-bag.jpg?camera_label=back', 'variant_ids': [70400], 'position': 'back', 'is_default': False, 'is_selected_for_publishing': True, 'order': 2}, {'src': 'https://images.printify.com/mockup/66f3af4609971b98a1089e79/70400/10536/a-minimalist-logo-with-the-wordmark-airtisans-stud-cyedi1aht5yfbryzcbtjgw-ghhfzor0rwavylmue-tywa-clutch-bag.jpg?camera_label=context-1', 'variant_ids': [70400], 'position': 'other', 'is_default': False, 'is_selected_for_publishing': True, 'order': 3}, {'src': 'https://images.printify.com/mockup/66f3af4609971b98a1089e79/70400/10541/a-minimalist-logo-with-the-wordmark-airtisans-stud-cyedi1aht5yfbryzcbtjgw-ghhfzor0rwavylmue-tywa-clutch-bag.jpg?camera_label=context-2', 'variant_ids': [70400], 'position': 'front', 'is_default': False, 'is_selected_for_publishing': True, 'order': 4}, {'src': 'https://images.printify.com/mockup/66f3af4609971b98a1089e79/70400/10540/a-minimalist-logo-with-the-wordmark-airtisans-stud-cyedi1aht5yfbryzcbtjgw-ghhfzor0rwavylmue-tywa-clutch-bag.jpg?camera_label=context-3', 'variant_ids': [70400], 'position': 'front', 'is_default': False, 'is_selected_for_publishing': False, 'order': None}], 'created_at': '2024-09-25 06:35:50+00:00', 'updated_at': '2024-09-25 06:35:50+00:00', 'visible': True, 'is_locked': False, 'blueprint_id': 544, 'user_id': 19756864, 'shop_id': 18000073, 'print_provider_id': 23, 'print_areas': [{'variant_ids': [70400], 'placeholders': [{'position': 'front', 'images': [{'id': '66f3ae9d3fd62b125360390e', 'name': 'a-minimalist-logo-with-the-wordmark-airtisans-stud-cYEDI1AHT5yFBRyZcBtJGw-gHhFzor0RwaVyLMuE-tyWA.jpeg', 'type': 'image/jpeg', 'height': 1024, 'width': 1024, 'x': 0.5, 'y': 0.5, 'scale': 0.3, 'angle': 0}]}, {'position': 'back', 'images': []}], 'background': '#ffffff'}], 'print_details': [], 'sales_channel_properties': [], 'is_printify_express_eligible': False, 'is_printify_express_enabled': False, 'is_economy_shipping_eligible': False, 'is_economy_shipping_enabled': False}\n"
          ]
        }
      ]
    },
    {
      "cell_type": "markdown",
      "source": [
        "## Clear images folder"
      ],
      "metadata": {
        "id": "bAWEERm52Nrl"
      }
    },
    {
      "cell_type": "code",
      "source": [
        "shutil.rmtree('images')  # Delete the entire directory\n",
        "os.mkdir('images')       # Recreate the directory"
      ],
      "metadata": {
        "id": "cg352jXJ2Hh6"
      },
      "execution_count": null,
      "outputs": []
    },
    {
      "cell_type": "code",
      "source": [],
      "metadata": {
        "id": "KxOT2k6q4hmM"
      },
      "execution_count": null,
      "outputs": []
    }
  ]
}